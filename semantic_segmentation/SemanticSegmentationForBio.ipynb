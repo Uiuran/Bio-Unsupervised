{
  "nbformat": 4,
  "nbformat_minor": 0,
  "metadata": {
    "colab": {
      "name": "SemanticSegmentationForBio.ipynb",
      "version": "0.3.2",
      "provenance": [],
      "collapsed_sections": [
        "BbUxWbno9-3o",
        "ai4A2APp-Kj5"
      ],
      "toc_visible": true
    },
    "kernelspec": {
      "name": "python3",
      "display_name": "Python 3"
    },
    "accelerator": "GPU"
  },
  "cells": [
    {
      "cell_type": "markdown",
      "metadata": {
        "id": "toTnURZtkSEG",
        "colab_type": "text"
      },
      "source": [
        "#Carregar Libs\n",
        "\n",
        "- Preprocessing: data load/augmentation, transformação de dados\n",
        "- Otimizadores\n",
        "- Layers e Models: componentes da rede e funções de composição e produção de variáveis (input).\n",
        "- Backends \n",
        "- Callbacks: salvar modelo em meio a execução(checkpoint), agendar mudança de parametros e visualizar grafo de computação"
      ]
    },
    {
      "cell_type": "code",
      "metadata": {
        "id": "iAY5TNBnkPSk",
        "colab_type": "code",
        "outputId": "0b6bb361-08b8-4309-995b-ee3a8cd562f3",
        "colab": {
          "base_uri": "https://localhost:8080/",
          "height": 34
        }
      },
      "source": [
        "from keras.preprocessing.image import ImageDataGenerator, array_to_img, img_to_array, load_img\n",
        "from keras import optimizers\n",
        "from keras.models import Sequential, Model, Input\n",
        "from keras.layers import Dropout, Flatten, Dense, GlobalAveragePooling2D, Conv2D, MaxPooling2D\n",
        "from keras import backend as K \n",
        "import tensorflow as TF\n",
        "from keras.callbacks import ModelCheckpoint, LearningRateScheduler, TensorBoard as Board, EarlyStopping\n",
        "import numpy as np\n",
        "import os\n",
        "clear = lambda: os.system('clear')\n",
        "#K.clear_session()\n",
        "\n",
        "# For Tensorboard Visualization\n",
        "from IPython.display import clear_output, Image, display, HTML\n",
        "\n",
        "# Reset Tensorflow session and its graph definition\n",
        "def reset_session(sess, clear_namespace = True):\n",
        "  TF.reset_default_graph()\n",
        "  sess.close()  \n",
        "  if clear_namespace:\n",
        "    clear()"
      ],
      "execution_count": 2,
      "outputs": [
        {
          "output_type": "stream",
          "text": [
            "Using TensorFlow backend.\n"
          ],
          "name": "stderr"
        }
      ]
    },
    {
      "cell_type": "code",
      "metadata": {
        "id": "G6m7yEia5Gxk",
        "colab_type": "code",
        "colab": {}
      },
      "source": [
        "from matplotlib import pyplot as plt\n",
        "from mpl_toolkits.axes_grid1.axes_rgb import RGBAxes"
      ],
      "execution_count": 0,
      "outputs": []
    },
    {
      "cell_type": "markdown",
      "metadata": {
        "id": "onnznYm6wNmn",
        "colab_type": "text"
      },
      "source": [
        "#Data Load/Augmentation\n",
        "\n",
        "- flow_from_dir without any arg and ``` classes = [\" \"] ``` will load the entire image dataset."
      ]
    },
    {
      "cell_type": "code",
      "metadata": {
        "id": "i3TF0yIuoIUL",
        "colab_type": "code",
        "outputId": "2db43b20-690b-44b6-fa41-4a4a3600605e",
        "colab": {
          "base_uri": "https://localhost:8080/",
          "height": 34
        }
      },
      "source": [
        "#Data load, but without augmentation. You can use ImageDataGenerator arguments to do augmentation if you desire.\n",
        "data_gen = ImageDataGenerator()\n",
        "dataload_dir = data_gen.flow_from_directory('/content/',target_size=(512,512), classes = [''], batch_size= 1)\n",
        "batch0 = dataload_dir.next()\n",
        "# Batch0 contains batchs of data and the corresponding class label. We will be using only the data batches\n",
        "batch = batch0[0]"
      ],
      "execution_count": 13,
      "outputs": [
        {
          "output_type": "stream",
          "text": [
            "Found 1 images belonging to 1 classes.\n"
          ],
          "name": "stdout"
        }
      ]
    },
    {
      "cell_type": "markdown",
      "metadata": {
        "id": "KgomCq98yQ3O",
        "colab_type": "text"
      },
      "source": [
        "##**Display Image-Data-Set**\n",
        "- The first of the ndarray (tensor) batch holds for the dataset sample.\n",
        "- We are using RGB function from Matplotlib, to use this you must use the three channels of the batch tensor, the last index, they hold for RGB. They must be int.\n"
      ]
    },
    {
      "cell_type": "code",
      "metadata": {
        "id": "1WZhyZYSwt_w",
        "colab_type": "code",
        "outputId": "9544a3b7-9f40-4f8b-cb25-33ee026145cb",
        "colab": {
          "base_uri": "https://localhost:8080/",
          "height": 350
        }
      },
      "source": [
        "fig = plt.figure()\n",
        "ax = RGBAxes(fig,[0.1,0.1,0.8,0.8])\n",
        "ax.imshow_rgb(np.int32(batch[0,:,:,0]),np.int32(batch[0,:,:,1]),np.int32(batch[0,:,:,2]),interpolation='none')"
      ],
      "execution_count": 0,
      "outputs": [
        {
          "output_type": "execute_result",
          "data": {
            "text/plain": [
              "(<matplotlib.image.AxesImage at 0x7fed0e620e10>,\n",
              " <matplotlib.image.AxesImage at 0x7fee24271780>,\n",
              " <matplotlib.image.AxesImage at 0x7fee242712b0>,\n",
              " <matplotlib.image.AxesImage at 0x7fee2461e7b8>)"
            ]
          },
          "metadata": {
            "tags": []
          },
          "execution_count": 24
        },
        {
          "output_type": "display_data",
          "data": {
            "image/png": "[encoded data removed]",
            "text/plain": [
              "<Figure size 432x288 with 4 Axes>"
            ]
          },
          "metadata": {
            "tags": []
          }
        }
      ]
    },
    {
      "cell_type": "markdown",
      "metadata": {
        "id": "S4THvOqc0pOq",
        "colab_type": "text"
      },
      "source": [
        "#Transfer-Learning\n",
        "- Load Model VGG19 trained in ImageNet dataset.\n",
        "\n",
        "##Extract Network Layers\n",
        " 1.   Build New Model in what will be transfered network layers.\n",
        " 2.   Replace the model layers built with the pre-trained loaded model in the first step.\n",
        " \n",
        "##Train New Model\n",
        " 1. Stack New Layers upon the transfered model and train it from scratch.\n",
        "\n",
        "\n",
        "\n",
        "\n",
        "\n",
        "\n"
      ]
    },
    {
      "cell_type": "markdown",
      "metadata": {
        "id": "eBLqBO0a44BU",
        "colab_type": "text"
      },
      "source": [
        "**Load Model**\n",
        "\n",
        ">We will be using Keras direct support to trained VGG19, however you can load any pre-trained model compressed in a h5py file. Be sure to initiallize the optmizator (through the .compile function) SGD or whatever it may be."
      ]
    },
    {
      "cell_type": "code",
      "metadata": {
        "id": "tRl0GsFOavdJ",
        "colab_type": "code",
        "colab": {}
      },
      "source": [
        "from tensorflow.compat.v1.graph_util import convert_variables_to_constants\n",
        "\n",
        "def freeze_session(session, keep_var_names=None, output_names=None, clear_devices=True):\n",
        "    \"\"\"\n",
        "    Freezes the state of a session into a pruned computation graph.\n",
        "\n",
        "    Creates a new computation graph where variable nodes are replaced by\n",
        "    constants taking their current value in the session. The new graph will be\n",
        "    pruned so subgraphs that are not necessary to compute the requested\n",
        "    outputs are removed.\n",
        "    @param session The TensorFlow session to be frozen.\n",
        "    @param keep_var_names A list of variable names that should not be frozen,\n",
        "                          or None to freeze all the variables in the graph.\n",
        "    @param output_names Names of the relevant graph outputs.\n",
        "    @param clear_devices Remove the device directives from the graph for better portability.\n",
        "    @return The frozen graph definition.\n",
        "    \"\"\"    \n",
        "    graph = session.graph\n",
        "    with graph.as_default():\n",
        "        freeze_var_names = list(set(v.op.name for v in TF.global_variables()).difference(keep_var_names or []))\n",
        "        output_names = output_names or []\n",
        "        output_names += [v.op.name for v in TF.global_variables()]\n",
        "        # Graph -> GraphDef ProtoBuf\n",
        "        input_graph_def = graph.as_graph_def()\n",
        "        if clear_devices:\n",
        "            for node in input_graph_def.node:\n",
        "                node.device = \"\"\n",
        "        frozen_graph = convert_variables_to_constants(session, input_graph_def,\n",
        "                                                      output_names, freeze_var_names)\n",
        "        return frozen_graph"
      ],
      "execution_count": 0,
      "outputs": []
    },
    {
      "cell_type": "code",
      "metadata": {
        "id": "HJsRaIBkAKnJ",
        "colab_type": "code",
        "colab": {}
      },
      "source": [
        "#Importing pre-trained models\n",
        "from keras import applications"
      ],
      "execution_count": 0,
      "outputs": []
    },
    {
      "cell_type": "code",
      "metadata": {
        "colab_type": "code",
        "id": "Lj_tIjrICBZ7",
        "outputId": "e919cfbf-0ea6-49ce-8b47-8f56e7033f3f",
        "colab": {
          "base_uri": "https://localhost:8080/",
          "height": 258
        }
      },
      "source": [
        "# Save model in .pb to load model as graph and to visualize it with Lucid\n",
        "\n",
        "with TF.Graph().as_default() as graph, TF.Session() as sess:  \n",
        "\n",
        "    model = applications.VGG19(weights = \"imagenet\", include_top=False, input_shape = (512, 512, 3))    \n",
        "    frozen_graph = freeze_session(sess, output_names=[out.op.name for out in model.outputs])\n",
        "    TF.train.write_graph(frozen_graph, \"model\", \"./Model.pb\", as_text=False)    \n"
      ],
      "execution_count": 6,
      "outputs": [
        {
          "output_type": "stream",
          "text": [
            "WARNING:tensorflow:From /usr/local/lib/python3.6/dist-packages/tensorflow/python/framework/op_def_library.py:263: colocate_with (from tensorflow.python.framework.ops) is deprecated and will be removed in a future version.\n",
            "Instructions for updating:\n",
            "Colocations handled automatically by placer.\n",
            "Downloading data from https://github.com/fchollet/deep-learning-models/releases/download/v0.1/vgg19_weights_tf_dim_ordering_tf_kernels_notop.h5\n",
            "80142336/80134624 [==============================] - 1s 0us/step\n",
            "WARNING:tensorflow:From <ipython-input-4-d683eaddb6ae>:29: convert_variables_to_constants (from tensorflow.python.framework.graph_util_impl) is deprecated and will be removed in a future version.\n",
            "Instructions for updating:\n",
            "Use tf.compat.v1.graph_util.convert_variables_to_constants\n",
            "WARNING:tensorflow:From /usr/local/lib/python3.6/dist-packages/tensorflow/python/framework/graph_util_impl.py:245: extract_sub_graph (from tensorflow.python.framework.graph_util_impl) is deprecated and will be removed in a future version.\n",
            "Instructions for updating:\n",
            "Use tf.compat.v1.graph_util.extract_sub_graph\n",
            "INFO:tensorflow:Froze 32 variables.\n",
            "INFO:tensorflow:Converted 32 variables to const ops.\n"
          ],
          "name": "stdout"
        }
      ]
    },
    {
      "cell_type": "code",
      "metadata": {
        "id": "L7VISJgImUlX",
        "colab_type": "code",
        "colab": {}
      },
      "source": [
        "#Tensorboard viz"
      ],
      "execution_count": 0,
      "outputs": []
    },
    {
      "cell_type": "code",
      "metadata": {
        "id": "LE3xWUaPJ2uz",
        "colab_type": "code",
        "colab": {}
      },
      "source": [
        ""
      ],
      "execution_count": 0,
      "outputs": []
    },
    {
      "cell_type": "code",
      "metadata": {
        "id": "nX4hSg2kw6qa",
        "colab_type": "code",
        "colab": {}
      },
      "source": [
        "model_fn = '/content/model/Model.pb'\n",
        "#model_fn = '/content/tensorflow_inception_graph.pb'\n",
        "\n",
        "# creating TensorFlow session and loading the model\n",
        "with TF.Graph().as_default() as graph:  \n",
        "  \n",
        "  with TF.gfile.GFile(model_fn, 'rb') as f, TF.InteractiveSession(graph=graph).as_default() as sess:\n",
        "    graph_def = TF.GraphDef()\n",
        "    graph_def.ParseFromString(f.read())\n",
        "  t_input = TF.placeholder(np.float32, name='input_1') # define the input tensor\n",
        "  imagenet_mean = 117.0\n",
        "  #t_preprocessed = TF.expand_dims(t_input, 0)\n",
        "  TF.import_graph_def(graph_def, {'input_1':t_input} )"
      ],
      "execution_count": 0,
      "outputs": []
    },
    {
      "cell_type": "code",
      "metadata": {
        "id": "5J30kw4Sza7W",
        "colab_type": "code",
        "colab": {}
      },
      "source": [
        "def strip_consts(graph_def, max_const_size=32):\n",
        "    \"\"\"Strip large constant values from graph_def.\"\"\"\n",
        "    strip_def = TF.GraphDef()\n",
        "    for n0 in graph_def.node:\n",
        "        n = strip_def.node.add() \n",
        "        n.MergeFrom(n0)\n",
        "        if n.op == 'Const':\n",
        "            tensor = n.attr['value'].tensor\n",
        "            size = len(tensor.tensor_content)\n",
        "            if size > max_const_size:\n",
        "                tensor.tensor_content = TF.compat.as_bytes(\"<stripped %d bytes>\"%size)\n",
        "    return strip_def\n",
        "  \n",
        "def rename_nodes(graph_def, rename_func):\n",
        "    res_def = TF.GraphDef()\n",
        "    for n0 in graph_def.node:\n",
        "        n = res_def.node.add() \n",
        "        n.MergeFrom(n0)\n",
        "        n.name = rename_func(n.name)\n",
        "        for i, s in enumerate(n.input):\n",
        "            n.input[i] = rename_func(s) if s[0]!='^' else '^'+rename_func(s[1:])\n",
        "    return res_def"
      ],
      "execution_count": 0,
      "outputs": []
    },
    {
      "cell_type": "code",
      "metadata": {
        "id": "ZabQIUEoyAe-",
        "colab_type": "code",
        "colab": {}
      },
      "source": [
        "def show_graph(graph_def, max_const_size=32):\n",
        "    \"\"\"Visualize TensorFlow graph.\"\"\"\n",
        "    if hasattr(graph_def, 'as_graph_def'):\n",
        "        graph_def = graph_def.as_graph_def()\n",
        "    strip_def = strip_consts(graph_def, max_const_size=max_const_size)\n",
        "    code = \"\"\"\n",
        "        <script>\n",
        "          function load() {{\n",
        "            document.getElementById(\"{id}\").pbtxt = {data};\n",
        "          }}\n",
        "        </script>\n",
        "        <link rel=\"import\" href=\"https://tensorboard.appspot.com/tf-graph-basic.build.html\" onload=load()>\n",
        "        <div style=\"height:600px\">\n",
        "          <tf-graph-basic id=\"{id}\"></tf-graph-basic>\n",
        "        </div>\n",
        "    \"\"\".format(data=repr(str(strip_def)), id='graph'+str(np.random.rand()))\n",
        "  \n",
        "    iframe = \"\"\"\n",
        "        <iframe seamless style=\"width:800px;height:620px;border:0\" srcdoc=\"{}\"></iframe>\n",
        "    \"\"\".format(code.replace('\"', '&quot;'))\n",
        "    display(HTML(iframe))"
      ],
      "execution_count": 0,
      "outputs": []
    },
    {
      "cell_type": "markdown",
      "metadata": {
        "id": "6N1alCDAFGCh",
        "colab_type": "text"
      },
      "source": [
        "##Visualization of a Feature Channel of Hidden Layer\n",
        "  - Using Lucid to do ease to build feature visualizations"
      ]
    },
    {
      "cell_type": "code",
      "metadata": {
        "id": "tavMPe3KQ8Cs",
        "colab_type": "code",
        "outputId": "892c4be1-db2e-4625-fca1-9057ad6c1b44",
        "colab": {
          "base_uri": "https://localhost:8080/",
          "height": 34
        }
      },
      "source": [
        "# Install Lucid\n",
        "\n",
        "#!pip install --quiet lucid==master\n",
        "!pip install --quiet --upgrade-strategy=only-if-needed git+https://github.com/tensorflow/lucid.git"
      ],
      "execution_count": 8,
      "outputs": [
        {
          "output_type": "stream",
          "text": [
            "  Building wheel for lucid (setup.py) ... \u001b[?25l\u001b[?25hdone\n"
          ],
          "name": "stdout"
        }
      ]
    },
    {
      "cell_type": "code",
      "metadata": {
        "id": "RBr8QbboRAdU",
        "colab_type": "code",
        "colab": {}
      },
      "source": [
        "# Imports, some imports are because of the hacks in Lucid\n",
        "\n",
        "import lucid.modelzoo.vision_models as models\n",
        "from lucid.modelzoo.vision_base import Model\n",
        "from lucid.misc.io import show\n",
        "import lucid.optvis.objectives as objectives\n",
        "import lucid.optvis.param as param\n",
        "import lucid.optvis.render as render\n",
        "from lucid.optvis.render import import_model, make_transform_f, make_optimizer, gradient_override_map, redirected_relu_grad, redirected_relu6_grad, make_print_objective_func\n",
        "import lucid.optvis.transform as transform\n",
        "from tensorflow.train import AdamOptimizer as Adam\n",
        "#fft_image = param.spatial.fft_image\n",
        "#rfft2d_freqs = param.spatial.rfft2d_freqs\n",
        "to_valid_rgb = param.color.to_valid_rgb\n",
        "#from lucid.optvis.render import make_vis_T"
      ],
      "execution_count": 0,
      "outputs": []
    },
    {
      "cell_type": "code",
      "metadata": {
        "id": "C36IR-G67jxw",
        "colab_type": "code",
        "colab": {}
      },
      "source": [
        "# Hacking Lucid functions\n",
        "def pixel_image(init_val, sd=None):\n",
        "  \"\"\"A naive, pixel-based image parameterization.\n",
        "  Defaults to a random initialization, but can take a supplied init_val argument\n",
        "  instead.\n",
        "  Args:\n",
        "    shape: shape of resulting image, [batch, width, height, channels].\n",
        "    sd: standard deviation of param initialization noise.\n",
        "    init_val: an initial value to use instead of a random initialization. Needs\n",
        "    to have the same shape as the supplied shape argument.\n",
        "  Returns:\n",
        "    tensor with shape from first argument.\n",
        "    \n",
        "    TODO - Noise mask.\n",
        "  \"\"\"\n",
        "  if sd is not None and init_val is not None:\n",
        "        warnings.warn(\n",
        "          \"`pixel_image` received both an initial value and a sd argument. Ignoring sd in favor of the supplied initial value.\"\n",
        "      )\n",
        "\n",
        "  sd = sd or 0.01\n",
        "  \n",
        "  return TF.Variable(init_val, dtype=TF.float32)\n",
        "\n",
        "def fft_image(init_val, sd=None, decay_power=1, filtersize = 0.3, display_spectrum = None):\n",
        "    \"\"\"An image paramaterization using 2D Fourier coefficients.\"\"\"\n",
        "\n",
        "    sd = sd or 0.01\n",
        "    \n",
        "    batch, h, w, ch = np.shape(init_val)\n",
        "    #freqs = rfft2d_freqs(h, w)\n",
        "    #init_val_shape = (2, ch) + freqs.shape\n",
        "    \n",
        "    images = []\n",
        "    for _ in range(batch):\n",
        "        # Create a random variable holding the actual 2D fourier coefficients\n",
        "        fourierspect = np.fft.fft2(init_val[_]).astype(np.complex64)\n",
        "        fs = fourierspect.copy()\n",
        "        fourierspect[ int(h*filtersize):int(h*(1-filtersize)) ,int(w*filtersize):int(w*(1-filtersize))] = 0          \n",
        "\n",
        "        # Scale the spectrum. First normalize energy, then scale by the square-root\n",
        "        # of the number of pixels to get a unitary transformation.\n",
        "        # This allows to use similar leanring rates to pixel-wise optimisation.\n",
        "\n",
        "        #scale = 1.0 / np.maximum(freqs, 1.0 / max(w, h)) ** decay_power\n",
        "        #scale = 1.0/np.sqrt(w * h)\n",
        "        #scaled_spectrum_t =  spectrum_real_imag_t\n",
        "        spect = np.fft.ifft2(fourierspect)        \n",
        "        \n",
        "        def plot_spectrum(im_fft):\n",
        "          from matplotlib.colors import LogNorm\n",
        "        # A logarithmic colormap                    \n",
        "          plt.figure()\n",
        "          plt.imshow(np.abs(im_fft/255.0))\n",
        "          plt.colorbar()\n",
        "          plt.title('Fourier transform')\n",
        "          plt.show()          \n",
        "        if type(display_spectrum) != type(None):\n",
        "          plot_spectrum(fs)     \n",
        "        \n",
        "        # convert complex scaled spectrum to shape (h, w, ch) image tnpensor\n",
        "        # needs to transpose because irfft2d returns channels first\n",
        "        image_t = TF.Variable( spect.real , dtype=TF.float32)        \n",
        "        # in case of odd spatial input dimensions we need to crop\n",
        "        image_t = image_t[:h, :w, :ch]        \n",
        "        images.append(image_t)        \n",
        "    batched_image_t = TF.stack(images)  # TODO: is that a magic constant?\n",
        "    return batched_image_t\n",
        "\n",
        "def make_t_image(init_val, param_f, pixel = False):\n",
        "  \n",
        "  if param_f is None or param_f == \"random\":\n",
        "    #print('gray')\n",
        "    t_image = fft_image(init_val, sd= None, decay_power = 1) \n",
        "    #t_image = to_valid_rgb(t_image[..., :3], decorrelate=False, sigmoid=True)\n",
        "  else:   \n",
        "    #print('image')\n",
        "    if pixel:        \n",
        "      t_image = pixel_image(init_val, sd=None)\n",
        "    else:        \n",
        "      t_image = fft_image(init_val, sd= None, decay_power = 1) \n",
        "    #t_image = to_valid_rgb(t_image[..., :3], decorrelate=True, sigmoid=True)\n",
        "      \n",
        "  #if callable(param_f):\n",
        "  #  t_image = param_f()\n",
        "  #elif isinstance(param_f, TF.Tensor):\n",
        "  #  t_image = param_f\n",
        "  #else:\n",
        "  #  print('foo')\n",
        "    #raise TypeError(\"Incompatible type for param_f, \" + str(type(param_f)) )\n",
        "  #if not isinstance(t_image, TF.Tensor):\n",
        "  #  raise TypeError(\"param_f should produce a Tensor, but instead created a \"\n",
        "  #                 + str(type(t_image)) )\n",
        "  #elif t_image.graph != TF.get_default_graph():\n",
        "  #  raise TypeError(\"\"\"param_f produced a t_image tensor belonging to a graph\n",
        "  #                   that isn't the default graph for rendering. Did you\n",
        "  #                   accidentally use render_vis when you meant to use\n",
        "  #                   make_vis_T?\"\"\")\n",
        "  #else:\n",
        "  return t_image\n",
        "\n",
        "def make_vis_T(model, objective_f, param_f=None, init_val = None, optimizer=None,\n",
        "               transforms=None, relu_gradient_override=False, pixel = False):\n",
        "  \"\"\"Even more flexible optimization-base feature vis.\n",
        "  This function is the inner core of render_vis(), and can be used\n",
        "  when render_vis() isn't flexible enough. Unfortunately, it's a bit more\n",
        "  tedious to use:\n",
        "  >  with tf.Graph().as_default() as graph, tf.Session() as sess:\n",
        "  >\n",
        "  >    T = make_vis_T(model, \"mixed4a_pre_relu:0\")\n",
        "  >    tf.initialize_all_variables().run()\n",
        "  >\n",
        "  >    for i in range(10):\n",
        "  >      T(\"vis_op\").run()\n",
        "  >      showarray(T(\"input\").eval()[0])\n",
        "  This approach allows more control over how the visualizaiton is displayed\n",
        "  as it renders. It also allows a lot more flexibility in constructing\n",
        "  objectives / params because the session is already in scope.\n",
        "  Args:\n",
        "    model: The model to be visualized, from Alex' modelzoo.\n",
        "    objective_f: The objective our visualization maximizes.\n",
        "      See the objectives module for more details.\n",
        "    param_f: Paramaterization of the image we're optimizing.\n",
        "      See the paramaterization module for more details.\n",
        "      Defaults to a naively paramaterized [1, 128, 128, 3] image.\n",
        "    optimizer: Optimizer to optimize with. Either tf.train.Optimizer instance,\n",
        "      or a function from (graph, sess) to such an instance.\n",
        "      Defaults to Adam with lr .05.\n",
        "    transforms: A list of stochastic transformations that get composed,\n",
        "      which our visualization should robustly activate the network against.\n",
        "      See the transform module for more details.\n",
        "      Defaults to [transform.jitter(8)].\n",
        "  Returns:\n",
        "    A function T, which allows access to:\n",
        "      * T(\"vis_op\") -- the operation for to optimize the visualization\n",
        "      * T(\"input\") -- the visualization itself\n",
        "      * T(\"loss\") -- the loss for the visualization\n",
        "      * T(layer) -- any layer inside the network\n",
        "  \"\"\"\n",
        "\n",
        "  # pylint: disable=unused-variable\n",
        "  if type(init_val) == type(None):\n",
        "    shape = tuple(model.image_shape)\n",
        "  elif type(model.image_shape) == type(None):    \n",
        "    shape = (1, 128, 128, 3)\n",
        "  elif len(model.image_shape) < 4:\n",
        "    shape = (1, 128, 128, 3)\n",
        "  else:\n",
        "    shape = np.shape(init_val)  \n",
        "  \n",
        "  t_image = make_t_image(init_val, param_f, pixel = pixel)\n",
        "  objective_f = objectives.as_objective(objective_f)\n",
        "  transform_f = make_transform_f(transforms)\n",
        "  if type(optimizer) == type(None):\n",
        "    optimizer = Adam(learning_rate = 0.8)\n",
        "  optimizer = make_optimizer(optimizer, [])\n",
        "\n",
        "  global_step = TF.train.get_or_create_global_step()\n",
        "  init_global_step = TF.variables_initializer([global_step])\n",
        "  init_global_step.run()\n",
        "\n",
        "  if relu_gradient_override:\n",
        "    with gradient_override_map({'Relu': redirected_relu_grad,\n",
        "                                'Relu6': redirected_relu6_grad}):      \n",
        "      T = import_model(model, t_image, t_image)\n",
        "  else:\n",
        "    T = import_model(model, t_image, t_image)\n",
        "  loss = objective_f(T)\n",
        "  \n",
        "  vis_op = optimizer.minimize(-loss, global_step=global_step)\n",
        "\n",
        "  local_vars = locals()\n",
        "  # pylint: enable=unused-variable\n",
        "\n",
        "  def T2(name):\n",
        "    if name in local_vars:\n",
        "      return local_vars[name]\n",
        "    else: return T(name)\n",
        "\n",
        "  return T2\n",
        "\n",
        "def render_vis(model, objective_f, param_f=None, optimizer=None,\n",
        "               transforms=None, thresholds=(512,), print_objectives=None,\n",
        "               verbose=True, relu_gradient_override=True, use_fixed_seed=False):\n",
        "  \"\"\"Flexible optimization-base feature vis.\n",
        "  There's a lot of ways one might wish to customize otpimization-based\n",
        "  feature visualization. It's hard to create an abstraction that stands up\n",
        "  to all the things one might wish to try.\n",
        "  This function probably can't do *everything* you want, but it's much more\n",
        "  flexible than a naive attempt. The basic abstraction is to split the problem\n",
        "  into several parts. Consider the rguments:\n",
        "  Args:\n",
        "    model: The model to be visualized, from Alex' modelzoo.\n",
        "    objective_f: The objective our visualization maximizes.\n",
        "      See the objectives module for more details.\n",
        "    param_f: Paramaterization of the image we're optimizing.\n",
        "      See the paramaterization module for more details.\n",
        "      Defaults to a naively paramaterized [1, 128, 128, 3] image.\n",
        "    optimizer: Optimizer to optimize with. Either tf.train.Optimizer instance,\n",
        "      or a function from (graph, sess) to such an instance.\n",
        "      Defaults to Adam with lr .05.\n",
        "    transforms: A list of stochastic transformations that get composed,\n",
        "      which our visualization should robustly activate the network against.\n",
        "      See the transform module for more details.\n",
        "      Defaults to [transform.jitter(8)].\n",
        "    thresholds: A list of numbers of optimization steps, at which we should\n",
        "      save (and display if verbose=True) the visualization.\n",
        "    print_objectives: A list of objectives separate from those being optimized,\n",
        "      whose values get logged during the optimization.\n",
        "    verbose: Should we display the visualization when we hit a threshold?\n",
        "      This should only be used in IPython.\n",
        "    relu_gradient_override: Whether to use the gradient override scheme\n",
        "      described in lucid/misc/redirected_relu_grad.py. On by default!\n",
        "    use_fixed_seed: Seed the RNG with a fixed value so results are reproducible.\n",
        "      Off by default. As of tf 1.8 this does not work as intended, see:\n",
        "      https://github.com/tensorflow/tensorflow/issues/9171\n",
        "  Returns:\n",
        "    2D array of optimization results containing of evaluations of supplied\n",
        "    param_f snapshotted at specified thresholds. Usually that will mean one or\n",
        "    multiple channel visualizations stacked on top of each other.\n",
        "  \"\"\"\n",
        "\n",
        "  with TF.Graph().as_default() as graph, TF.Session() as sess:\n",
        "\n",
        "    if use_fixed_seed:  # does not mean results are reproducible, see Args doc\n",
        "      tf.set_random_seed(0)\n",
        "\n",
        "    T = make_vis_T(model, objective_f, param_f, optimizer, transforms,\n",
        "                   relu_gradient_override)\n",
        "    print_objective_func = make_print_objective_func(print_objectives, T)\n",
        "    loss, vis_op, t_image = T(\"loss\"), T(\"vis_op\"), T(\"input\")\n",
        "    TF.global_variables_initializer().run()\n",
        "\n",
        "    images = []\n",
        "    try:\n",
        "      for i in range(max(thresholds)+1):\n",
        "        loss_, _ = sess.run([loss, vis_op])\n",
        "        if i in thresholds:\n",
        "          vis = t_image.eval()\n",
        "          images.append(vis)\n",
        "          if verbose:\n",
        "            print(i, loss_)\n",
        "            print_objective_func(sess)\n",
        "            show(np.hstack(vis))\n",
        "    except KeyboardInterrupt:\n",
        "      log.warning(\"Interrupted optimization at step {:d}.\".format(i+1))\n",
        "      vis = t_image.eval()\n",
        "      show(np.hstack(vis))\n",
        "\n",
        "    return images"
      ],
      "execution_count": 0,
      "outputs": []
    },
    {
      "cell_type": "code",
      "metadata": {
        "id": "HvsF6rq8WOtz",
        "colab_type": "code",
        "colab": {}
      },
      "source": [
        "# Define model with input placeholder information. Use Model inheritance to do so, using load_graphdef() function, to use Model.pb graphdef\n",
        "\n",
        "class VGG(Model):\n",
        "  model_path = '/content/model/Model.pb'\n",
        "  image_shape = (1,512, 512, 3)\n",
        "  image_value_range = (0.0, 255.0)\n",
        "  input_name = 'input_1'\n",
        "  def __init__(self):\n",
        "    with TF.Graph().as_default() as graph, TF.Session() as sess:\n",
        "      t_input = TF.placeholder(np.float32, name='input_1') # define the input tensor\n",
        "      #imagenet_mean = 117.0\n",
        "      #t_preprocessed = TF.expand_dims(t_input - imagenet_mean, 0)            "
      ],
      "execution_count": 0,
      "outputs": []
    },
    {
      "cell_type": "code",
      "metadata": {
        "id": "D5XRQohzQYZT",
        "colab_type": "code",
        "colab": {}
      },
      "source": [
        "# Load Model\n",
        "\n",
        "#model = VGG()\n",
        "model = models.InceptionV1()\n",
        "model.image_shape = (1,512, 512, 3)\n",
        "model.image_value_range = (0.0, 255.0)\n",
        "model.input_name = 'input'\n",
        "model.load_graphdef()\n",
        "#model.show_graph()"
      ],
      "execution_count": 0,
      "outputs": []
    },
    {
      "cell_type": "code",
      "metadata": {
        "id": "_B_sIUSrfwyi",
        "colab_type": "code",
        "colab": {}
      },
      "source": [
        "def attribution0(batch, objective, optmization_steps = 20, with_fft = True, fft_steps = 10, display_original = False, **kwargs):\n",
        "  \"\"\"\n",
        "  This function fits given image to an objective, what can be channel, mix of channel, layers and so on.\n",
        "  It does so through optimization of hidden objective in relation to given image. You can apply fft denoising \n",
        "  after a number of optimization steps. In the end it displays the original image and the one optimized to the\n",
        "  objective.\n",
        "  \n",
        "  kwargs\n",
        "  --optmization_steps: an integer that determines the number of optimization steps in relation to the objective\n",
        "  before taking a fft denoising tranform on the input. Defaults to 20.  \n",
        "  --with_fft: boolean. Determines if the algorithm is to do denoising.\n",
        "  --fft_steps: Integer. Determines how many steps it will apply denoise after optimization steps.\n",
        "  --display_original: shows the original input before the optimization togheter with the output.\n",
        "  \n",
        "  ps: The total number of optimization steps in order to attribute an input to an objective is:\n",
        "    N = optimization_steps*fft_steps\n",
        "    Even if you choose to not do denoising however set fft_steps to non zero value.\n",
        "  \"\"\"   \n",
        "  if 'verbose' in kwargs:\n",
        "    verbose = kwargs['verbose']\n",
        "  else:\n",
        "    verbose = False\n",
        "    \n",
        "  if 'param_f' in kwargs:\n",
        "    param_f = kwargs['param_f']\n",
        "  else:\n",
        "    param_f = None\n",
        "  if 'std' in kwargs:\n",
        "    std = kwargs['std']\n",
        "  else:\n",
        "    std = 1.\n",
        "  \n",
        "  \n",
        "  if (param_f == 'random') or type(batch) == type(None):\n",
        "    batch = np.random.uniform(0, std, model.image_shape) + 117.0\n",
        "  \n",
        "  if display_original and (param_f != 'random') and type(batch) != type(None):\n",
        "    bout = batch.copy()  \n",
        "  \n",
        "  for j in range(fft_steps):  \n",
        "    if verbose:\n",
        "      print('denoise step:', j)   \n",
        "    with TF.Graph().as_default() as graph, TF.Session() as sess:\n",
        "    \n",
        "      TF.set_random_seed(237)\n",
        "    \n",
        "      if j == 0 or (not with_fft):\n",
        "        T = make_vis_T(model, obj, param_f = param_f, init_val = batch, relu_gradient_override = True, pixel = True)\n",
        "      else:  \n",
        "        T = make_vis_T(model, obj, param_f = param_f, init_val = batch, relu_gradient_override = True)\n",
        "      TF.initialize_all_variables().run()\n",
        "      for i in range(optmization_steps):\n",
        "        T(\"vis_op\").run()\n",
        "        if verbose:\n",
        "          print(\"Loss \",T(\"loss\").eval())          \n",
        "      \n",
        "      batch = T(\"input\").eval()\n",
        "  \n",
        "  if display_original and (param_f != 'random') and type(batch) != type(None):   \n",
        "    plt.figure(dpi=150)\n",
        "    plt.imshow(bout[0,...].astype(np.int32))\n",
        "    plt.show()\n",
        "    \n",
        "  plt.figure(dpi=150)    \n",
        "  plt.imshow((batch[0]-np).astype(np.int32))\n",
        "  plt.show()\n",
        "  #show(batch[0,...], domain=(0,255))\n"
      ],
      "execution_count": 0,
      "outputs": []
    },
    {
      "cell_type": "code",
      "metadata": {
        "id": "Fr7vgJd-fc7O",
        "colab_type": "code",
        "colab": {}
      },
      "source": [
        "channel = lambda n: objectives.channel(\"mixed4d_3x3_bottleneck_pre_relu\", n)\n",
        "#otherlayerchannel = lambda n: objectives.channel(\"block3_conv3/convolution\", n)\n",
        "\n",
        "\n",
        "#obj = channel(511) + channel(311) + channel(411) + channel(111) + channel(481) + channel(221) + channel(11) + channel(90) + otherlayerchannel(20) + otherlayerchannel(30) + otherlayerchannel(55) + otherlayerchannel(80) + otherlayerchannel(90) + otherlayerchannel(120)\n",
        "obj = channel(139)\n",
        "\n",
        "batch = batch0[0]\n",
        "#batch = None\n",
        "attribution0(batch,obj, optmization_steps = 512, fft_steps = 1, with_fft= False, verbose = True, param_f = 'random')\n",
        "attribution0(batch,obj, optmization_steps = 20, with_fft= True, fft_steps = 25, verbose = False, param_f = 'random')\n",
        "attribution0(batch,obj, optmization_steps = 512, fft_steps = 1, with_fft= False, verbose = False)\n",
        "attribution0(batch,obj, optmization_steps = 20, with_fft= True, fft_steps = 25, display_original = True, verbose = False)"
      ],
      "execution_count": 0,
      "outputs": []
    },
    {
      "cell_type": "code",
      "metadata": {
        "id": "gdndPOa9Y-xG",
        "colab_type": "code",
        "outputId": "c00d2944-80df-47a3-9714-fb4fe8bb2603",
        "colab": {
          "base_uri": "https://localhost:8080/",
          "height": 284
        }
      },
      "source": [
        "_ = render.render_vis(model, obj)"
      ],
      "execution_count": 0,
      "outputs": [
        {
          "output_type": "stream",
          "text": [
            "WARNING:tensorflow:From /usr/local/lib/python3.6/dist-packages/tensorflow/python/ops/signal/fft_ops.py:315: to_float (from tensorflow.python.ops.math_ops) is deprecated and will be removed in a future version.\n",
            "Instructions for updating:\n",
            "Use tf.cast instead.\n"
          ],
          "name": "stdout"
        },
        {
          "output_type": "stream",
          "text": [
            "WARNING:tensorflow:From /usr/local/lib/python3.6/dist-packages/tensorflow/python/ops/signal/fft_ops.py:315: to_float (from tensorflow.python.ops.math_ops) is deprecated and will be removed in a future version.\n",
            "Instructions for updating:\n",
            "Use tf.cast instead.\n"
          ],
          "name": "stderr"
        },
        {
          "output_type": "stream",
          "text": [
            "512 713.9314\n"
          ],
          "name": "stdout"
        },
        {
          "output_type": "display_data",
          "data": {
            "image/png": "[encoded data removed]",
            "text/plain": [
              "<IPython.core.display.Image object>"
            ]
          },
          "metadata": {
            "tags": []
          }
        }
      ]
    },
    {
      "cell_type": "code",
      "metadata": {
        "id": "yNALaA0QRJVT",
        "colab_type": "code",
        "colab": {}
      },
      "source": [
        "# Let's import a model from the Lucid modelzoo!\n",
        "\n",
        "#model = models.InceptionV1()\n",
        "#model = applications.VGG19(weights = \"imagenet\", include_top=False, input_shape = (224, 224, 3))    \n",
        "#model.load_graphdef()"
      ],
      "execution_count": 0,
      "outputs": []
    },
    {
      "cell_type": "code",
      "metadata": {
        "id": "9WBV0Bdy_KQf",
        "colab_type": "code",
        "colab": {}
      },
      "source": [
        "#Useful function, output tensors of a model\n",
        "def get_tensors(model):\n",
        "  with TF.Graph().as_default() as graph, TF.Session().as_default() as sess:  \n",
        "    graphdef = model.graph_def\n",
        "    TF.import_graph_def(graphdef,{model.input_name:TF.placeholder(TF.float32, name = model.input_name)})\n",
        "    TF.initialize_local_variables()\n",
        "    graphdef.node\n",
        "    \n",
        "    return [op.name for op in graph.get_operations()]  \n",
        "        "
      ],
      "execution_count": 0,
      "outputs": []
    },
    {
      "cell_type": "code",
      "metadata": {
        "id": "9bFLYmjJ0gkq",
        "colab_type": "code",
        "colab": {}
      },
      "source": [
        "get_tensors(model)"
      ],
      "execution_count": 0,
      "outputs": []
    },
    {
      "cell_type": "code",
      "metadata": {
        "colab_type": "code",
        "id": "QI-BGRvvczS1",
        "colab": {}
      },
      "source": [
        "####\n",
        "###\n",
        "# Some visualization hacked from deep-dreams, comparing the Lucid hacking with the deep-dreams hack. Multiscale hacking\n",
        "##\n",
        "###\n",
        "\n",
        "from __future__ import print_function\n",
        "import os\n",
        "from io import BytesIO\n",
        "import numpy as np\n",
        "from functools import partial\n",
        "import PIL.Image\n",
        "from google.colab import files\n",
        "# Picking some internal layer. Note that we use outputs before applying the ReLU nonlinearity\n",
        "# to have non-zero gradients for features with negative initial activations.\n",
        "#layer = 'import/block5_conv4/convolution'\n",
        "layer = \"import/mixed4d_3x3_bottleneck_pre_relu\"\n",
        "layer1 = \"import/mixed4c_3x3_bottleneck_pre_relu\"\n",
        "\n",
        "\n",
        "# start with a gray image with a little noise\n",
        "img_noise0 = np.random.uniform(size=(1,512,512,3)) + 100.0\n",
        "img_noise = batch0[0] \n",
        "\n",
        "with TF.Graph().as_default() as graph, TF.Session().as_default() as sess:  \n",
        "  model.load_graphdef()\n",
        "  graph_def = model.graph_def\n",
        "  \"\"\"\n",
        "  with TF.gfile.GFile(model_fn, 'rb') as f:\n",
        "    graph_def = TF.GraphDef()\n",
        "    graph_def.ParseFromString(f.read())\n",
        "  t_input = TF.placeholder(np.float32, name='input') # define the input tensor\n",
        "  imagenet_mean = 117.0\n",
        "  #t_preprocessed = TF.expand_dims(t_input, 0)\"\"\"\n",
        "  t_input = TF.placeholder(np.float32, name='input')\n",
        "  t_preprocessed = TF.expand_dims(t_input, 0)\n",
        "  TF.import_graph_def(graph_def, {'input':t_preprocessed} )\n",
        "\n",
        "  def showarray(a, fmt='jpeg'):\n",
        "    a = np.uint8(np.clip(a, 0, 1)*255)\n",
        "    f = BytesIO()\n",
        "    PIL.Image.fromarray(a).save('/content/Inception139_100_4d_4c_3x.jpeg', fmt)\n",
        "    files.download('/content/Inception139_100_4d_4c_3x.jpeg')\n",
        "    PIL.Image.fromarray(a).save(f, fmt)\n",
        "    display(Image(data=f.getvalue()))\n",
        "    \n",
        "  def visstd(a, s=0.3):\n",
        "    '''Normalize the image range for visualization'''\n",
        "    return (a-a.mean())/max(a.std(), 1e-4)*s + 0.5\n",
        "\n",
        "  def T(layer):\n",
        "    '''Helper for getting layer output tensor'''\n",
        "    return graph.get_tensor_by_name(\"%s:0\"%layer)\n",
        "\n",
        "  def calc_grad_tiled(img, t_grad, tile_size=1024):\n",
        "    '''Compute the value of tensor t_grad over the image in a tiled way.\n",
        "    Random shifts are applied to the image to blur tile boundaries over \n",
        "    multiple iterations.'''\n",
        "    sz = tile_size\n",
        "    h, w = img.shape[:2]\n",
        "    sx, sy = np.random.randint(sz, size=2)\n",
        "    img_shift = np.roll(np.roll(img, sx, 1), sy, 0)\n",
        "    grad = np.zeros_like(img)\n",
        "    for y in range(0, max(h-sz//2, sz),sz):\n",
        "      for x in range(0, max(w-sz//2, sz),sz):\n",
        "        sub = img_shift[y:y+sz,x:x+sz]\n",
        "        g = sess.run(t_grad, {t_input:sub})\n",
        "        grad[y:y+sz,x:x+sz] = g\n",
        "    return np.roll(np.roll(grad, -sx, 1), -sy, 0)\n",
        "\n",
        "  def tffunc(*argtypes):\n",
        "    '''Helper that transforms TF-graph generating function into a regular one.\n",
        "    See \"resize\" function below.\n",
        "    '''\n",
        "    placeholders = list(map(TF.placeholder, argtypes))\n",
        "    def wrap(f):\n",
        "      out = f(*placeholders)\n",
        "      def wrapper(*args, **kw):\n",
        "        return out.eval(dict(zip(placeholders, args)), session=kw.get('session'))\n",
        "      return wrapper\n",
        "    return wrap\n",
        "\n",
        "# Helper function that uses TF to resize an image\n",
        "  def resize(img, size):\n",
        "    img = TF.expand_dims(img, 0)\n",
        "    return TF.image.resize_bilinear(img, size)[0,:,:,:]\n",
        "  \n",
        "  resize = tffunc(np.float32, np.int32)(resize)\n",
        "\n",
        "\n",
        "  def calc_grad_tiled(img, t_grad, tile_size=256):\n",
        "    '''Compute the value of tensor t_grad over the image in a tiled way.\n",
        "    Random shifts are applied to the image to blur tile boundaries over \n",
        "    multiple iterations.'''\n",
        "    sz = tile_size\n",
        "    h, w = img.shape[:2]\n",
        "    sx, sy = np.random.randint(sz, size=2)\n",
        "    img_shift = np.roll(np.roll(img, sx, 1), sy, 0)\n",
        "    grad = np.zeros_like(img)\n",
        "    for y in range(0, max(h-sz//2, sz),sz):\n",
        "      for x in range(0, max(w-sz//2, sz),sz):\n",
        "        sub = img_shift[y:y+sz,x:x+sz]\n",
        "        g = sess.run(t_grad, {t_input:sub})\n",
        "        grad[y:y+sz,x:x+sz] = g\n",
        "    return np.roll(np.roll(grad, -sx, 1), -sy, 0)\n",
        "\n",
        "  def render_multiscale(t_obj, img0=img_noise, iter_n=256, step=.8, octave_n=3, octave_scale=2.5):\n",
        "    t_score = TF.reduce_mean(t_obj) # defining the optimization objective\n",
        "    t_grad = TF.gradients(t_score, t_input)[0] # behold the power of automatic differentiation!\n",
        "    \n",
        "    img = img0.copy()\n",
        "    for octave in range(octave_n):\n",
        "      if octave>0:\n",
        "        hw = np.float32(img.shape[:2])*octave_scale\n",
        "        img = resize(img, np.int32(hw))\n",
        "      for i in range(iter_n):\n",
        "        g = calc_grad_tiled(img, t_grad)\n",
        "        # normalizing the gradient, so the same step size should work \n",
        "        g /= g.std()+1e-8         # for different layers and networks\n",
        "        img += g*step\n",
        "        print('.', end = ' ')\n",
        "      clear_output()\n",
        "      showarray(visstd(img))\n",
        "\n",
        "  render_multiscale(T(layer)[:,:,:,139]+T(layer1)[:,:,:,100], img0 = img_noise[0])\n",
        "  #render_multiscale(T(layer)[:,:,:,139]+T(layer1)[:,:,:,120], img0 = img_noise0[0])\n"
      ],
      "execution_count": 0,
      "outputs": []
    },
    {
      "cell_type": "code",
      "metadata": {
        "id": "0NcUmGzy4XdV",
        "colab_type": "code",
        "colab": {}
      },
      "source": [
        "\n",
        "from __future__ import print_function\n",
        "import os\n",
        "from io import BytesIO\n",
        "import numpy as np\n",
        "from functools import partial\n",
        "import PIL.Image\n",
        "# Picking some internal layer. Note that we use outputs before applying the ReLU nonlinearity\n",
        "# to have non-zero gradients for features with negative initial activations.\n",
        "layer = 'import/block5_conv4/convolution'\n",
        "layer1 = 'import/block5_conv2/convolution'\n",
        "#layer = \"import/mixed4d_3x3_bottleneck_pre_relu\"\n",
        "#layer1 = \"import/mixed4c_3x3_bottleneck_pre_relu\"\n",
        "\n",
        "\n",
        "# start with a gray image with a little noise\n",
        "img_noise0 = np.random.uniform(size=(1,512,512,3)) + 100.0\n",
        "img_noise = batch0[0] \n",
        "\n",
        "with TF.Graph().as_default() as graph, TF.Session().as_default() as sess:  \n",
        "  model.load_graphdef()\n",
        "  graph_def = model.graph_def\n",
        "  \"\"\"\n",
        "  with TF.gfile.GFile(model_fn, 'rb') as f:\n",
        "    graph_def = TF.GraphDef()\n",
        "    graph_def.ParseFromString(f.read())\n",
        "  t_input = TF.placeholder(np.float32, name='input') # define the input tensor\n",
        "  imagenet_mean = 117.0\n",
        "  #t_preprocessed = TF.expand_dims(t_input, 0)\"\"\"\n",
        "  t_input = TF.placeholder(np.float32, name='input_1')\n",
        "  t_preprocessed = TF.expand_dims(t_input, 0)\n",
        "  TF.import_graph_def(graph_def, {'input_1':t_preprocessed} )\n",
        "\n",
        "  def showarray(a, fmt='jpeg'):\n",
        "    a = np.uint8(np.clip(a, 0, 1)*255)\n",
        "    f = BytesIO()\n",
        "    PIL.Image.fromarray(a).save('/content/vgg19.jpeg', fmt)\n",
        "    PIL.Image.fromarray(a).save(f, fmt)\n",
        "    display(Image(data=f.getvalue()))\n",
        "    \n",
        "  def visstd(a, s=0.3):\n",
        "    '''Normalize the image range for visualization'''\n",
        "    return (a-a.mean())/max(a.std(), 1e-4)*s + 0.5\n",
        "\n",
        "  def T(layer):\n",
        "    '''Helper for getting layer output tensor'''\n",
        "    return graph.get_tensor_by_name(\"%s:0\"%layer)\n",
        "\n",
        "  def calc_grad_tiled(img, t_grad, tile_size=1024):\n",
        "    '''Compute the value of tensor t_grad over the image in a tiled way.\n",
        "    Random shifts are applied to the image to blur tile boundaries over \n",
        "    multiple iterations.'''\n",
        "    sz = tile_size\n",
        "    h, w = img.shape[:2]\n",
        "    sx, sy = np.random.randint(sz, size=2)\n",
        "    img_shift = np.roll(np.roll(img, sx, 1), sy, 0)\n",
        "    grad = np.zeros_like(img)\n",
        "    for y in range(0, max(h-sz//2, sz),sz):\n",
        "      for x in range(0, max(w-sz//2, sz),sz):\n",
        "        sub = img_shift[y:y+sz,x:x+sz]\n",
        "        g = sess.run(t_grad, {t_input:sub})\n",
        "        grad[y:y+sz,x:x+sz] = g\n",
        "    return np.roll(np.roll(grad, -sx, 1), -sy, 0)\n",
        "\n",
        "  def tffunc(*argtypes):\n",
        "    '''Helper that transforms TF-graph generating function into a regular one.\n",
        "    See \"resize\" function below.\n",
        "    '''\n",
        "    placeholders = list(map(TF.placeholder, argtypes))\n",
        "    def wrap(f):\n",
        "      out = f(*placeholders)\n",
        "      def wrapper(*args, **kw):\n",
        "        return out.eval(dict(zip(placeholders, args)), session=kw.get('session'))\n",
        "      return wrapper\n",
        "    return wrap\n",
        "\n",
        "# Helper function that uses TF to resize an image\n",
        "  def resize(img, size):\n",
        "    img = TF.expand_dims(img, 0)\n",
        "    return TF.image.resize_bilinear(img, size)[0,:,:,:]\n",
        "  \n",
        "  resize = tffunc(np.float32, np.int32)(resize)\n",
        "\n",
        "\n",
        "  def calc_grad_tiled(img, t_grad, tile_size=256):\n",
        "    '''Compute the value of tensor t_grad over the image in a tiled way.\n",
        "    Random shifts are applied to the image to blur tile boundaries over \n",
        "    multiple iterations.'''\n",
        "    sz = tile_size\n",
        "    h, w = img.shape[:2]\n",
        "    sx, sy = np.random.randint(sz, size=2)\n",
        "    img_shift = np.roll(np.roll(img, sx, 1), sy, 0)\n",
        "    grad = np.zeros_like(img)\n",
        "    for y in range(0, max(h-sz//2, sz),sz):\n",
        "      for x in range(0, max(w-sz//2, sz),sz):\n",
        "        sub = img_shift[y:y+sz,x:x+sz]\n",
        "        g = sess.run(t_grad, {t_input:sub})\n",
        "        grad[y:y+sz,x:x+sz] = g\n",
        "    return np.roll(np.roll(grad, -sx, 1), -sy, 0)\n",
        "\n",
        "  def render_multiscale(t_obj, img0=img_noise, iter_n=256, step=.8, octave_n=3, octave_scale=2.5):\n",
        "    t_score = TF.reduce_mean(t_obj) # defining the optimization objective\n",
        "    t_grad = TF.gradients(t_score, t_input)[0] # behold the power of automatic differentiation!\n",
        "    \n",
        "    img = img0.copy()\n",
        "    for octave in range(octave_n):\n",
        "      if octave>0:\n",
        "        hw = np.float32(img.shape[:2])*octave_scale\n",
        "        img = resize(img, np.int32(hw))\n",
        "      for i in range(iter_n):\n",
        "        g = calc_grad_tiled(img, t_grad)\n",
        "        # normalizing the gradient, so the same step size should work \n",
        "        g /= g.std()+1e-8         # for different layers and networks\n",
        "        img += g*step\n",
        "        print('.', end = ' ')\n",
        "      clear_output()\n",
        "      showarray(visstd(img))\n",
        "\n",
        "  render_multiscale(T(layer)[:,:,:,17]+T(layer1)[:,:,:,30], img0 = img_noise[0])\n",
        "  #render_multiscale(T(layer)[:,:,:,139]+T(layer1)[:,:,:,120], img0 = img_noise0[0])\n"
      ],
      "execution_count": 0,
      "outputs": []
    },
    {
      "cell_type": "markdown",
      "metadata": {
        "id": "Hd7smgPg1ef7",
        "colab_type": "text"
      },
      "source": [
        "##Extract Network Layers"
      ]
    },
    {
      "cell_type": "markdown",
      "metadata": {
        "id": "8g4YhmQQ63qs",
        "colab_type": "text"
      },
      "source": [
        "###1. Build New Model\n",
        " >For this we will be using usual Keras interface for 2D Convolutional Nets with Max Pooling. This Network will be receiving the first layers of VGG19 ImageNet Pre-Trained Network.\n"
      ]
    },
    {
      "cell_type": "code",
      "metadata": {
        "id": "F8PkOrPG62cQ",
        "colab_type": "code",
        "colab": {}
      },
      "source": [
        "img_width, img_height = 2050, 2050\n",
        "\n",
        "### Build the network \n",
        "# Block 1\n",
        "img_input = Input(shape=(img_width, img_height, 3))\n",
        "x = Conv2D(64, (3, 3), activation='relu', padding='same', name='block1_conv1')(img_input)\n",
        "x = Conv2D(64, (3, 3), activation='relu', padding='same', name='block1_conv2')(x)\n",
        "x = MaxPooling2D((2, 2), strides=(2, 2), name='block1_pool')(x)\n",
        "\n",
        "# Block 2\n",
        "x = Conv2D(128, (3, 3), activation='relu', padding='same', name='block2_conv1')(x)\n",
        "x = Conv2D(128, (3, 3), activation='relu', padding='same', name='block2_conv2')(x)\n",
        "x = MaxPooling2D((2, 2), strides=(2, 2), name='block2_pool')(x)\n",
        "\n",
        "newmodel = Model(input = img_input, output = x)\n",
        "\n",
        "newmodel.summary()"
      ],
      "execution_count": 0,
      "outputs": []
    },
    {
      "cell_type": "code",
      "metadata": {
        "id": "9hl7nU9L8pQn",
        "colab_type": "code",
        "colab": {}
      },
      "source": [
        "# Dictionary using tuples layer name-weights\n",
        "layer_dict = dict([(layer.name, layer) for layer in newmodel.layers])\n",
        "layer_names = [layer.name for layer in newmodel.layers]"
      ],
      "execution_count": 0,
      "outputs": []
    },
    {
      "cell_type": "markdown",
      "metadata": {
        "id": "PFXeKd_FFpQU",
        "colab_type": "text"
      },
      "source": [
        "###2. Replace the Model-Layers\n",
        ">"
      ]
    },
    {
      "cell_type": "code",
      "metadata": {
        "id": "B4pR14YHFnxS",
        "colab_type": "code",
        "colab": {}
      },
      "source": [
        "for i in layer_dict.keys():    \n",
        "    index = layer_names.index(i)    \n",
        "    for j in model.layers:       \n",
        "        if i == j.name:           \n",
        "            w = model.layers[model.layers.index(j)]\n",
        "            newmodel.layers[index].set_weights(w.get_weights())            "
      ],
      "execution_count": 0,
      "outputs": []
    },
    {
      "cell_type": "code",
      "metadata": {
        "id": "C0ontMAAkyq6",
        "colab_type": "code",
        "colab": {}
      },
      "source": [
        "with tf.variable_scope('foo', reuse=tf.AUTO_REUSE):\n",
        "    tinput = tf.get_variable('tensor_input1', initializer= batch)"
      ],
      "execution_count": 0,
      "outputs": []
    },
    {
      "cell_type": "code",
      "metadata": {
        "id": "TgEj1mC2ycQ6",
        "colab_type": "code",
        "colab": {}
      },
      "source": [
        "with tf.variable_scope('foo', reuse=tf.AUTO_REUSE):\n",
        "    modeloleitura = newmodel.call(tinput)"
      ],
      "execution_count": 0,
      "outputs": []
    },
    {
      "cell_type": "code",
      "metadata": {
        "id": "sEYzsWYG6aIe",
        "colab_type": "code",
        "outputId": "ca24ed00-e0ea-4eac-fd29-454585e16231",
        "colab": {
          "base_uri": "https://localhost:8080/",
          "height": 35
        }
      },
      "source": [
        "modeloleitura.get_shape()"
      ],
      "execution_count": 0,
      "outputs": [
        {
          "output_type": "execute_result",
          "data": {
            "text/plain": [
              "TensorShape([Dimension(6), Dimension(512), Dimension(512), Dimension(128)])"
            ]
          },
          "metadata": {
            "tags": []
          },
          "execution_count": 13
        }
      ]
    },
    {
      "cell_type": "code",
      "metadata": {
        "id": "E8q7C0t2DoHw",
        "colab_type": "code",
        "colab": {}
      },
      "source": [
        "init = tf.global_variables_initializer()\n",
        "sess = tf.Session()\n",
        "sess.run(init)"
      ],
      "execution_count": 0,
      "outputs": []
    },
    {
      "cell_type": "code",
      "metadata": {
        "id": "2tFMEVX07TBv",
        "colab_type": "code",
        "colab": {}
      },
      "source": [
        "with tf.variable_scope('foo', reuse=tf.AUTO_REUSE):\n",
        "    nptensor = modeloleitura.eval(session=sess)\n",
        "  \n"
      ],
      "execution_count": 0,
      "outputs": []
    },
    {
      "cell_type": "code",
      "metadata": {
        "id": "Mwtpm7lrBVKG",
        "colab_type": "code",
        "colab": {}
      },
      "source": [
        "sess.close()"
      ],
      "execution_count": 0,
      "outputs": []
    },
    {
      "cell_type": "markdown",
      "metadata": {
        "id": "BbUxWbno9-3o",
        "colab_type": "text"
      },
      "source": [
        "##Train New Model"
      ]
    },
    {
      "cell_type": "markdown",
      "metadata": {
        "id": "ai4A2APp-Kj5",
        "colab_type": "text"
      },
      "source": [
        "###1. Stack New Layers \n",
        "> Add new layers with Keras Interface to train your model.\n"
      ]
    },
    {
      "cell_type": "code",
      "metadata": {
        "id": "A5mF43-ixt1B",
        "colab_type": "code",
        "colab": {}
      },
      "source": [
        "img = load_img('anny0.jpg')  # this is a PIL image\n",
        "x = img_to_array(img)  # this is a Numpy array with shape (3, 150, 150)\n",
        "x = x.reshape((1,) + x.shape)  # this is a Numpy array with shape (1, 3, 150, 150)"
      ],
      "execution_count": 0,
      "outputs": []
    },
    {
      "cell_type": "code",
      "metadata": {
        "id": "knQ5_o5gx0ff",
        "colab_type": "code",
        "colab": {}
      },
      "source": [
        "# Data Augmentation\n",
        "datagen = ImageDataGenerator(\n",
        "rescale = 1./255,\n",
        "horizontal_flip = True,\n",
        "fill_mode = \"nearest\",\n",
        "zoom_range = 0.3,\n",
        "width_shift_range = 0.3,\n",
        "height_shift_range=0.3,\n",
        "rotation_range=30)"
      ],
      "execution_count": 0,
      "outputs": []
    },
    {
      "cell_type": "code",
      "metadata": {
        "id": "J-OuNprb2B8a",
        "colab_type": "code",
        "colab": {}
      },
      "source": [
        "# Generates Batch of Data\n",
        "i = 0\n",
        "for batch in datagen.flow(x, batch_size=1,\n",
        "                          save_to_dir='./', save_prefix='anny', save_format='jpeg'):\n",
        "    i += 1\n",
        "    if i > 20:\n",
        "        break  # otherwise the generator would loop indefinitely"
      ],
      "execution_count": 0,
      "outputs": []
    },
    {
      "cell_type": "code",
      "metadata": {
        "id": "J3UdpYp15UIN",
        "colab_type": "code",
        "colab": {}
      },
      "source": [
        "img = load_img('/content/anny_0_1461.jpeg')  # this is a PIL image\n",
        "x0 = img_to_array(img)  # this is a Numpy array with shape (3, 150, 150)\n",
        "x0 = x0.reshape((1,) + x.shape)  # this is a Numpy array with shape (1, 3, 150, 150)"
      ],
      "execution_count": 0,
      "outputs": []
    },
    {
      "cell_type": "code",
      "metadata": {
        "id": "417G5-zVkTi_",
        "colab_type": "code",
        "outputId": "44b3471d-3d11-4f6e-c547-31dc319d029b",
        "colab": {
          "base_uri": "https://localhost:8080/",
          "height": 231
        }
      },
      "source": [
        "img_width, img_height = 1543, 1062\n",
        "\n",
        "### Build the network \n",
        "img_input = Input(shape=(1543, 1062, 3))\n",
        "x = Conv2D(64, (3, 3), activation='relu', padding='same', name='block1_conv1')(img_input)\n",
        "x = Conv2D(64, (3, 3), activation='relu', padding='same', name='block1_conv2')(x)\n",
        "x = MaxPooling2D((2, 2), strides=(2, 2), name='block1_pool')(x)\n",
        "\n",
        "# Block 2\n",
        "x = Conv2D(128, (3, 3), activation='relu', padding='same', name='block2_conv1')(x)\n",
        "x = Conv2D(128, (3, 3), activation='relu', padding='same', name='block2_conv2')(x)\n",
        "x = MaxPooling2D((2, 2), strides=(2, 2), name='block2_pool')(x)\n",
        "\n",
        "model = Model(input = img_input, output = x)\n",
        "\n",
        "model.summary()\n",
        "\"\"\"\n",
        "_________________________________________________________________\n",
        "Layer (type)                 Output Shape              Param #   \n",
        "=================================================================\n",
        "input_1 (InputLayer)         (None, 256, 256, 3)       0         \n",
        "_________________________________________________________________\n",
        "block1_conv1 (Conv2D)        (None, 256, 256, 64)      1792      \n",
        "_________________________________________________________________\n",
        "block1_conv2 (Conv2D)        (None, 256, 256, 64)      36928     \n",
        "_________________________________________________________________\n",
        "block1_pool (MaxPooling2D)   (None, 128, 128, 64)      0         \n",
        "_________________________________________________________________\n",
        "block2_conv1 (Conv2D)        (None, 128, 128, 128)     73856     \n",
        "_________________________________________________________________\n",
        "block2_conv2 (Conv2D)        (None, 128, 128, 128)     147584    \n",
        "_________________________________________________________________\n",
        "block2_pool (MaxPooling2D)   (None, 64, 64, 128)       0         \n",
        "=================================================================\n",
        "Total params: 260,160.0\n",
        "Trainable params: 260,160.0\n",
        "Non-trainable params: 0.0\n",
        "\"\"\"\n",
        "\n",
        "layer_dict = dict([(layer.name, layer) for layer in model.layers])\n",
        "[layer.name for layer in model.layers]\n",
        "\"\"\"\n",
        "['input_1',\n",
        " 'block1_conv1',\n",
        " 'block1_conv2',\n",
        " 'block1_pool',\n",
        " 'block2_conv1',\n",
        " 'block2_conv2',\n",
        " 'block2_pool']\n",
        "\"\"\"\n"
      ],
      "execution_count": 0,
      "outputs": [
        {
          "output_type": "error",
          "ename": "NameError",
          "evalue": "ignored",
          "traceback": [
            "\u001b[0;31m---------------------------------------------------------------------------\u001b[0m",
            "\u001b[0;31mNameError\u001b[0m                                 Traceback (most recent call last)",
            "\u001b[0;32m<ipython-input-2-b96215bf7a08>\u001b[0m in \u001b[0;36m<module>\u001b[0;34m()\u001b[0m\n\u001b[1;32m      2\u001b[0m \u001b[0;34m\u001b[0m\u001b[0m\n\u001b[1;32m      3\u001b[0m \u001b[0;31m### Build the network\u001b[0m\u001b[0;34m\u001b[0m\u001b[0;34m\u001b[0m\u001b[0;34m\u001b[0m\u001b[0m\n\u001b[0;32m----> 4\u001b[0;31m \u001b[0mimg_input\u001b[0m \u001b[0;34m=\u001b[0m \u001b[0mInput\u001b[0m\u001b[0;34m(\u001b[0m\u001b[0mshape\u001b[0m\u001b[0;34m=\u001b[0m\u001b[0;34m(\u001b[0m\u001b[0;36m1543\u001b[0m\u001b[0;34m,\u001b[0m \u001b[0;36m1062\u001b[0m\u001b[0;34m,\u001b[0m \u001b[0;36m3\u001b[0m\u001b[0;34m)\u001b[0m\u001b[0;34m)\u001b[0m\u001b[0;34m\u001b[0m\u001b[0;34m\u001b[0m\u001b[0m\n\u001b[0m\u001b[1;32m      5\u001b[0m \u001b[0mx\u001b[0m \u001b[0;34m=\u001b[0m \u001b[0mConv2D\u001b[0m\u001b[0;34m(\u001b[0m\u001b[0;36m64\u001b[0m\u001b[0;34m,\u001b[0m \u001b[0;34m(\u001b[0m\u001b[0;36m3\u001b[0m\u001b[0;34m,\u001b[0m \u001b[0;36m3\u001b[0m\u001b[0;34m)\u001b[0m\u001b[0;34m,\u001b[0m \u001b[0mactivation\u001b[0m\u001b[0;34m=\u001b[0m\u001b[0;34m'relu'\u001b[0m\u001b[0;34m,\u001b[0m \u001b[0mpadding\u001b[0m\u001b[0;34m=\u001b[0m\u001b[0;34m'same'\u001b[0m\u001b[0;34m,\u001b[0m \u001b[0mname\u001b[0m\u001b[0;34m=\u001b[0m\u001b[0;34m'block1_conv1'\u001b[0m\u001b[0;34m)\u001b[0m\u001b[0;34m(\u001b[0m\u001b[0mimg_input\u001b[0m\u001b[0;34m)\u001b[0m\u001b[0;34m\u001b[0m\u001b[0;34m\u001b[0m\u001b[0m\n\u001b[1;32m      6\u001b[0m \u001b[0mx\u001b[0m \u001b[0;34m=\u001b[0m \u001b[0mConv2D\u001b[0m\u001b[0;34m(\u001b[0m\u001b[0;36m64\u001b[0m\u001b[0;34m,\u001b[0m \u001b[0;34m(\u001b[0m\u001b[0;36m3\u001b[0m\u001b[0;34m,\u001b[0m \u001b[0;36m3\u001b[0m\u001b[0;34m)\u001b[0m\u001b[0;34m,\u001b[0m \u001b[0mactivation\u001b[0m\u001b[0;34m=\u001b[0m\u001b[0;34m'relu'\u001b[0m\u001b[0;34m,\u001b[0m \u001b[0mpadding\u001b[0m\u001b[0;34m=\u001b[0m\u001b[0;34m'same'\u001b[0m\u001b[0;34m,\u001b[0m \u001b[0mname\u001b[0m\u001b[0;34m=\u001b[0m\u001b[0;34m'block1_conv2'\u001b[0m\u001b[0;34m)\u001b[0m\u001b[0;34m(\u001b[0m\u001b[0mx\u001b[0m\u001b[0;34m)\u001b[0m\u001b[0;34m\u001b[0m\u001b[0;34m\u001b[0m\u001b[0m\n",
            "\u001b[0;31mNameError\u001b[0m: name 'Input' is not defined"
          ]
        }
      ]
    },
    {
      "cell_type": "code",
      "metadata": {
        "id": "r1W26Xkpus0H",
        "colab_type": "code",
        "colab": {}
      },
      "source": [
        ""
      ],
      "execution_count": 0,
      "outputs": []
    },
    {
      "cell_type": "code",
      "metadata": {
        "id": "6B4t-vWkpXkJ",
        "colab_type": "code",
        "colab": {}
      },
      "source": [
        "\n",
        "import h5py\n",
        "weights_path = 'vgg19_weights.h5' # ('https://github.com/fchollet/deep-learning-models/releases/download/v0.1/vgg19_weights_tf_dim_ordering_tf_kernels.h5)\n",
        "f = h5py.File(weights_path)\n",
        "\n",
        "list(f[\"model_weights\"].keys())\n",
        "\"\"\"\n",
        "['block1_conv1',\n",
        " 'block1_conv2',\n",
        " 'block1_pool',\n",
        " 'block2_conv1',\n",
        " 'block2_conv2',\n",
        " 'block2_pool',\n",
        " 'block3_conv1',\n",
        " 'block3_conv2',\n",
        " 'block3_conv3',\n",
        " 'block3_conv4',\n",
        " 'block3_pool',\n",
        " 'block4_conv1',\n",
        " 'block4_conv2',\n",
        " 'block4_conv3',\n",
        " 'block4_conv4',\n",
        " 'block4_pool',\n",
        " 'block5_conv1',\n",
        " 'block5_conv2',\n",
        " 'block5_conv3',\n",
        " 'block5_conv4',\n",
        " 'block5_pool',\n",
        " 'dense_1',\n",
        " 'dense_2',\n",
        " 'dense_3',\n",
        " 'dropout_1',\n",
        " 'global_average_pooling2d_1',\n",
        " 'input_1']\n",
        "\"\"\"\n",
        "\n",
        "# list all the layer names which are in the model.\n",
        "layer_names = [layer.name for layer in model.layers]\n",
        "\n",
        "\n",
        "\"\"\"\n",
        "# Here we are extracting model_weights for each and every layer from the .h5 file\n",
        ">>> f[\"model_weights\"][\"block1_conv1\"].attrs[\"weight_names\"]\n",
        "array([b'block1_conv1/kernel:0', b'block1_conv1/bias:0'], \n",
        "      dtype='|S21')\n",
        "# we are assiging this array to weight_names below \n",
        ">>> f[\"model_weights\"][\"block1_conv1\"][\"block1_conv1/kernel:0]\n",
        "<HDF5 dataset \"kernel:0\": shape (3, 3, 3, 64), type \"<f4\">\n",
        "# The list comprehension (weights) stores these two weights and bias of both the layers \n",
        ">>>layer_names.index(\"block1_conv1\")\n",
        "1\n",
        ">>> model.layers[1].set_weights(weights)\n",
        "# This will set the weights for that particular layer.\n",
        "With a for loop we can set_weights for the entire network.\n",
        "\"\"\"\n",
        "for i in layer_dict.keys():\n",
        "    weight_names = f[\"model_weights\"][i].attrs[\"weight_names\"]\n",
        "    weights = [f[\"model_weights\"][i][j] for j in weight_names]\n",
        "    index = layer_names.index(i)\n",
        "    model.layers[index].set_weights(weights)\n",
        "\n",
        "    \n",
        "import cv2\n",
        "import numpy as np\n",
        "import pandas as pd\n",
        "from tqdm import tqdm\n",
        "import itertools\n",
        "import glob\n",
        "\n",
        "features = []\n",
        "for i in tqdm(files_location):\n",
        "        im = cv2.imread(i)\n",
        "        im = cv2.resize(cv2.cvtColor(im, cv2.COLOR_BGR2RGB), (256, 256)).astype(np.float32) / 255.0\n",
        "        im = np.expand_dims(im, axis =0)\n",
        "        outcome = model_final.predict(im)\n",
        "        features.append(outcome)\n",
        "        \n",
        "## collect these features and create a dataframe and train a classfier on top of it."
      ],
      "execution_count": 0,
      "outputs": []
    }
  ]
}