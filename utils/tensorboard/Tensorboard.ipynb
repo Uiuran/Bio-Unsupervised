{
  "nbformat": 4,
  "nbformat_minor": 0,
  "metadata": {
    "colab": {
      "name": "Tensorboard.ipynb",
      "version": "0.3.2",
      "provenance": [],
      "collapsed_sections": []
    },
    "kernelspec": {
      "name": "python3",
      "display_name": "Python 3"
    }
  },
  "cells": [
    {
      "metadata": {
        "id": "_eSBz-TZ26F5",
        "colab_type": "text"
      },
      "cell_type": "markdown",
      "source": [
        "#Tensorboard "
      ]
    },
    {
      "metadata": {
        "id": "g6FIYeVG2zxT",
        "colab_type": "code",
        "colab": {}
      },
      "cell_type": "code",
      "source": [
        "import tensorflow as TF\n",
        "#from keras.callbacks import ModelCheckpoint, LearningRateScheduler, TensorBoard as Board, EarlyStopping\n",
        "import numpy as np\n",
        "\n",
        "# Tensorboard display\n",
        "from IPython.display import clear_output, Image, display, HTML"
      ],
      "execution_count": 0,
      "outputs": []
    },
    {
      "metadata": {
        "id": "ntVxsJVK3IJw",
        "colab_type": "code",
        "colab": {}
      },
      "cell_type": "code",
      "source": [
        "from keras import applications\n",
        "\n",
        "sess = TF.Session()\n",
        "model = applications.VGG19(weights = \"imagenet\", include_top=False, input_shape = (2050, 2050, 3))"
      ],
      "execution_count": 0,
      "outputs": []
    },
    {
      "metadata": {
        "id": "INqWipW83fqS",
        "colab_type": "text"
      },
      "cell_type": "markdown",
      "source": [
        "Escreve definição de grafo de computação do modelo em .pb através da Sessão."
      ]
    },
    {
      "metadata": {
        "id": "l3jwdVQy3X_z",
        "colab_type": "code",
        "colab": {}
      },
      "cell_type": "code",
      "source": [
        "# função util para congelar partes do grafo de computação e deletá-las ou move-las para outro arquivo\n",
        "#  TF.compat.v1.graph_util.convert_variables_to_constants?"
      ],
      "execution_count": 0,
      "outputs": []
    },
    {
      "metadata": {
        "id": "sPNOsNtO3QId",
        "colab_type": "code",
        "outputId": "08915353-8a3d-47dd-9dc9-d9b7da52cd99",
        "colab": {
          "base_uri": "https://localhost:8080/",
          "height": 35
        }
      },
      "cell_type": "code",
      "source": [
        "graph = sess.graph.as_graph_def()\n",
        "TF.train.write_graph(graph, \"model\", \"./TF_model.pb\", as_text=False)"
      ],
      "execution_count": 0,
      "outputs": [
        {
          "output_type": "execute_result",
          "data": {
            "text/plain": [
              "'model/./TF_model.pb'"
            ]
          },
          "metadata": {
            "tags": []
          },
          "execution_count": 3
        }
      ]
    },
    {
      "metadata": {
        "id": "mI3DryWM4PgS",
        "colab_type": "text"
      },
      "cell_type": "markdown",
      "source": [
        "Importando definição do grafo de computação do modelo gerado pela API Keras"
      ]
    },
    {
      "metadata": {
        "id": "0IxYJq7A4DtR",
        "colab_type": "code",
        "colab": {}
      },
      "cell_type": "code",
      "source": [
        "model_fn = '/content/model/TF_model.pb'\n",
        "\n",
        "# creating TensorFlow session and loading the model\n",
        "graph = TF.Graph()\n",
        "sess = TF.InteractiveSession(graph=graph)\n",
        "with TF.gfile.FastGFile(model_fn, 'rb') as f:\n",
        "    graph_def = TF.GraphDef()\n",
        "    graph_def.ParseFromString(f.read())\n",
        "t_input = TF.placeholder(np.float32, name='input') # define the input tensor\n",
        "imagenet_mean = 117.0\n",
        "t_preprocessed = TF.expand_dims(t_input-imagenet_mean, 0)\n",
        "TF.import_graph_def(graph_def)"
      ],
      "execution_count": 0,
      "outputs": []
    },
    {
      "metadata": {
        "id": "gmerGBl-4d5_",
        "colab_type": "text"
      },
      "cell_type": "markdown",
      "source": [
        "Visualização do grafo de computação com Tensorboard no notebook"
      ]
    },
    {
      "metadata": {
        "id": "AR-gNKse4dHl",
        "colab_type": "code",
        "colab": {}
      },
      "cell_type": "code",
      "source": [
        "# funções auxiliares\n",
        "def strip_consts(graph_def, max_const_size=32):\n",
        "    \"\"\"Strip large constant values from graph_def.\"\"\"\n",
        "    strip_def = TF.GraphDef()\n",
        "    for n0 in graph_def.node:\n",
        "        n = strip_def.node.add() \n",
        "        n.MergeFrom(n0)\n",
        "        if n.op == 'Const':\n",
        "            tensor = n.attr['value'].tensor\n",
        "            size = len(tensor.tensor_content)\n",
        "            if size > max_const_size:\n",
        "                tensor.tensor_content = TF.compat.as_bytes(\"<stripped %d bytes>\"%size)\n",
        "    return strip_def\n",
        "  \n",
        "def rename_nodes(graph_def, rename_func):\n",
        "    res_def = TF.GraphDef()\n",
        "    for n0 in graph_def.node:\n",
        "        n = res_def.node.add() \n",
        "        n.MergeFrom(n0)\n",
        "        n.name = rename_func(n.name)\n",
        "        for i, s in enumerate(n.input):\n",
        "            n.input[i] = rename_func(s) if s[0]!='^' else '^'+rename_func(s[1:])\n",
        "    return res_def"
      ],
      "execution_count": 0,
      "outputs": []
    },
    {
      "metadata": {
        "id": "bkdkQPN54qqH",
        "colab_type": "code",
        "colab": {}
      },
      "cell_type": "code",
      "source": [
        "# Função que usa HTML e javascript para exibir tensorboar no notebook e web\n",
        "def show_graph(graph_def, max_const_size=32):\n",
        "    \"\"\"Visualize TensorFlow graph.\"\"\"\n",
        "    if hasattr(graph_def, 'as_graph_def'):\n",
        "        graph_def = graph_def.as_graph_def()\n",
        "    strip_def = strip_consts(graph_def, max_const_size=max_const_size)\n",
        "    code = \"\"\"\n",
        "        <script>\n",
        "          function load() {{\n",
        "            document.getElementById(\"{id}\").pbtxt = {data};\n",
        "          }}\n",
        "        </script>\n",
        "        <link rel=\"import\" href=\"https://tensorboard.appspot.com/tf-graph-basic.build.html\" onload=load()>\n",
        "        <div style=\"height:600px\">\n",
        "          <tf-graph-basic id=\"{id}\"></tf-graph-basic>\n",
        "        </div>\n",
        "    \"\"\".format(data=repr(str(strip_def)), id='graph'+str(np.random.rand()))\n",
        "  \n",
        "    iframe = \"\"\"\n",
        "        <iframe seamless style=\"width:800px;height:620px;border:0\" srcdoc=\"{}\"></iframe>\n",
        "    \"\"\".format(code.replace('\"', '&quot;'))\n",
        "    display(HTML(iframe))"
      ],
      "execution_count": 0,
      "outputs": []
    },
    {
      "metadata": {
        "id": "YvMm0wxR5Tdz",
        "colab_type": "code",
        "colab": {}
      },
      "cell_type": "code",
      "source": [
        "show_graph(graph_def)"
      ],
      "execution_count": 0,
      "outputs": []
    },
    {
      "metadata": {
        "id": "fthJM4iB6xNd",
        "colab_type": "text"
      },
      "cell_type": "markdown",
      "source": [
        "**TODO**: Tensorboard utilizando Keras durante o Fit\n",
        "\n",
        "**Sites uteis para visualização**\n",
        "\n",
        "#### Deep-dream visualizar canais de features\n",
        "\n",
        "https://nbviewer.jupyter.org/github/tensorflow/tensorflow/blob/master/tensorflow/examples/tutorials/deepdream/deepdream.ipynb\n",
        "\n",
        "#### Keras para .pb (TF graph definition)\n",
        "  https://www.dlology.com/blog/how-to-convert-trained-keras-model-to-tensorflow-and-make-prediction/\n",
        "\n",
        "#### Tensorboard guia\n",
        "https://www.tensorflow.org/tensorboard/r1/summaries"
      ]
    }
  ]
}